{
 "cells": [
  {
   "cell_type": "markdown",
   "metadata": {},
   "source": [
    "# Sample code - Reddit scraping"
   ]
  },
  {
   "cell_type": "code",
   "execution_count": 117,
   "metadata": {},
   "outputs": [],
   "source": [
    "import pandas as pd\n",
    "import praw"
   ]
  },
  {
   "cell_type": "code",
   "execution_count": 118,
   "metadata": {},
   "outputs": [],
   "source": [
    "reddit = praw.Reddit(client_id='GHk82YA2K-B2pQ', \\\n",
    "                     client_secret='KKJfLOiU19pOeGTRfb1gH8eUv1XosA', \\\n",
    "                     user_agent='TextProcessing', \\\n",
    "                     username='Textprocessing123', \\\n",
    "                     password='xxxx')"
   ]
  },
  {
   "cell_type": "code",
   "execution_count": 119,
   "metadata": {},
   "outputs": [],
   "source": [
    "science = reddit.subreddit('Science')"
   ]
  },
  {
   "cell_type": "code",
   "execution_count": 120,
   "metadata": {},
   "outputs": [],
   "source": [
    "topscience = science.top(limit=1000)"
   ]
  },
  {
   "cell_type": "code",
   "execution_count": 121,
   "metadata": {},
   "outputs": [
    {
     "name": "stdout",
     "output_type": "stream",
     "text": [
      "Physicist Stephen Hawking dies aged 76\n"
     ]
    }
   ],
   "source": [
    "for submission in science.top(limit=1):\n",
    "    print(submission.title)"
   ]
  },
  {
   "cell_type": "code",
   "execution_count": 122,
   "metadata": {},
   "outputs": [],
   "source": [
    "science_dict = {\"title\":[], \"score\":[], \"url\":[], \"comms_num\":[], \"body\":[], \"label\":[]}"
   ]
  },
  {
   "cell_type": "code",
   "execution_count": 123,
   "metadata": {},
   "outputs": [],
   "source": [
    "for submission in topscience:\n",
    "    science_dict[\"title\"].append(submission.title)\n",
    "    science_dict[\"score\"].append(submission.score)\n",
    "    science_dict[\"url\"].append(submission.url)\n",
    "    science_dict[\"comms_num\"].append(submission.num_comments)\n",
    "    science_dict[\"body\"].append(submission.selftext)\n",
    "    science_dict[\"label\"].append(\"Science\")"
   ]
  },
  {
   "cell_type": "code",
   "execution_count": 124,
   "metadata": {},
   "outputs": [],
   "source": [
    "science_data = pd.DataFrame(science_dict)"
   ]
  },
  {
   "cell_type": "code",
   "execution_count": 125,
   "metadata": {
    "scrolled": true
   },
   "outputs": [
    {
     "data": {
      "text/html": [
       "<div>\n",
       "<style scoped>\n",
       "    .dataframe tbody tr th:only-of-type {\n",
       "        vertical-align: middle;\n",
       "    }\n",
       "\n",
       "    .dataframe tbody tr th {\n",
       "        vertical-align: top;\n",
       "    }\n",
       "\n",
       "    .dataframe thead th {\n",
       "        text-align: right;\n",
       "    }\n",
       "</style>\n",
       "<table border=\"1\" class=\"dataframe\">\n",
       "  <thead>\n",
       "    <tr style=\"text-align: right;\">\n",
       "      <th></th>\n",
       "      <th>title</th>\n",
       "      <th>score</th>\n",
       "      <th>url</th>\n",
       "      <th>comms_num</th>\n",
       "      <th>body</th>\n",
       "      <th>label</th>\n",
       "    </tr>\n",
       "  </thead>\n",
       "  <tbody>\n",
       "    <tr>\n",
       "      <th>0</th>\n",
       "      <td>Physicist Stephen Hawking dies aged 76</td>\n",
       "      <td>199298</td>\n",
       "      <td>https://www.reddit.com/r/science/comments/84ai...</td>\n",
       "      <td>3887</td>\n",
       "      <td>We regret to hear that [Stephen Hawking died t...</td>\n",
       "      <td>Science</td>\n",
       "    </tr>\n",
       "    <tr>\n",
       "      <th>1</th>\n",
       "      <td>The first picture of a black hole opens a new ...</td>\n",
       "      <td>155293</td>\n",
       "      <td>https://www.sciencenews.org/article/black-hole...</td>\n",
       "      <td>5582</td>\n",
       "      <td></td>\n",
       "      <td>Science</td>\n",
       "    </tr>\n",
       "    <tr>\n",
       "      <th>2</th>\n",
       "      <td>Since legalizing cannabis in 2012, crime clear...</td>\n",
       "      <td>124695</td>\n",
       "      <td>https://www.google.com/amp/s/www.washingtonpos...</td>\n",
       "      <td>4802</td>\n",
       "      <td></td>\n",
       "      <td>Science</td>\n",
       "    </tr>\n",
       "    <tr>\n",
       "      <th>3</th>\n",
       "      <td>Raising the taxes of graduate students by as m...</td>\n",
       "      <td>124374</td>\n",
       "      <td>https://www.reddit.com/r/science/comments/7e1j...</td>\n",
       "      <td>11015</td>\n",
       "      <td>Science and technology development has been th...</td>\n",
       "      <td>Science</td>\n",
       "    </tr>\n",
       "    <tr>\n",
       "      <th>4</th>\n",
       "      <td>No evidence to support link between violent vi...</td>\n",
       "      <td>114560</td>\n",
       "      <td>https://www.york.ac.uk/news-and-events/news/20...</td>\n",
       "      <td>3812</td>\n",
       "      <td></td>\n",
       "      <td>Science</td>\n",
       "    </tr>\n",
       "    <tr>\n",
       "      <th>...</th>\n",
       "      <td>...</td>\n",
       "      <td>...</td>\n",
       "      <td>...</td>\n",
       "      <td>...</td>\n",
       "      <td>...</td>\n",
       "      <td>...</td>\n",
       "    </tr>\n",
       "    <tr>\n",
       "      <th>985</th>\n",
       "      <td>Liberals and conservatives are more able to de...</td>\n",
       "      <td>37436</td>\n",
       "      <td>https://journals.sagepub.com/doi/abs/10.1177/1...</td>\n",
       "      <td>1893</td>\n",
       "      <td></td>\n",
       "      <td>Science</td>\n",
       "    </tr>\n",
       "    <tr>\n",
       "      <th>986</th>\n",
       "      <td>The psychedelic psilocybin acutely induces reg...</td>\n",
       "      <td>37388</td>\n",
       "      <td>https://www.nature.com/articles/s41386-020-0718-8</td>\n",
       "      <td>1351</td>\n",
       "      <td></td>\n",
       "      <td>Science</td>\n",
       "    </tr>\n",
       "    <tr>\n",
       "      <th>987</th>\n",
       "      <td>A painting discovered on the wall of an Indone...</td>\n",
       "      <td>37341</td>\n",
       "      <td>https://www.bbc.com/news/world-asia-50754303</td>\n",
       "      <td>830</td>\n",
       "      <td></td>\n",
       "      <td>Science</td>\n",
       "    </tr>\n",
       "    <tr>\n",
       "      <th>988</th>\n",
       "      <td>Legislators in states with high labor unioniza...</td>\n",
       "      <td>37332</td>\n",
       "      <td>https://www.cambridge.org/core/journals/perspe...</td>\n",
       "      <td>950</td>\n",
       "      <td></td>\n",
       "      <td>Science</td>\n",
       "    </tr>\n",
       "    <tr>\n",
       "      <th>989</th>\n",
       "      <td>Medicaid expansion in Michigan led to net fisc...</td>\n",
       "      <td>37326</td>\n",
       "      <td>https://read.dukeupress.edu/jhppl/article/doi/...</td>\n",
       "      <td>1372</td>\n",
       "      <td></td>\n",
       "      <td>Science</td>\n",
       "    </tr>\n",
       "  </tbody>\n",
       "</table>\n",
       "<p>990 rows × 6 columns</p>\n",
       "</div>"
      ],
      "text/plain": [
       "                                                 title   score  \\\n",
       "0               Physicist Stephen Hawking dies aged 76  199298   \n",
       "1    The first picture of a black hole opens a new ...  155293   \n",
       "2    Since legalizing cannabis in 2012, crime clear...  124695   \n",
       "3    Raising the taxes of graduate students by as m...  124374   \n",
       "4    No evidence to support link between violent vi...  114560   \n",
       "..                                                 ...     ...   \n",
       "985  Liberals and conservatives are more able to de...   37436   \n",
       "986  The psychedelic psilocybin acutely induces reg...   37388   \n",
       "987  A painting discovered on the wall of an Indone...   37341   \n",
       "988  Legislators in states with high labor unioniza...   37332   \n",
       "989  Medicaid expansion in Michigan led to net fisc...   37326   \n",
       "\n",
       "                                                   url  comms_num  \\\n",
       "0    https://www.reddit.com/r/science/comments/84ai...       3887   \n",
       "1    https://www.sciencenews.org/article/black-hole...       5582   \n",
       "2    https://www.google.com/amp/s/www.washingtonpos...       4802   \n",
       "3    https://www.reddit.com/r/science/comments/7e1j...      11015   \n",
       "4    https://www.york.ac.uk/news-and-events/news/20...       3812   \n",
       "..                                                 ...        ...   \n",
       "985  https://journals.sagepub.com/doi/abs/10.1177/1...       1893   \n",
       "986  https://www.nature.com/articles/s41386-020-0718-8       1351   \n",
       "987       https://www.bbc.com/news/world-asia-50754303        830   \n",
       "988  https://www.cambridge.org/core/journals/perspe...        950   \n",
       "989  https://read.dukeupress.edu/jhppl/article/doi/...       1372   \n",
       "\n",
       "                                                  body    label  \n",
       "0    We regret to hear that [Stephen Hawking died t...  Science  \n",
       "1                                                       Science  \n",
       "2                                                       Science  \n",
       "3    Science and technology development has been th...  Science  \n",
       "4                                                       Science  \n",
       "..                                                 ...      ...  \n",
       "985                                                     Science  \n",
       "986                                                     Science  \n",
       "987                                                     Science  \n",
       "988                                                     Science  \n",
       "989                                                     Science  \n",
       "\n",
       "[990 rows x 6 columns]"
      ]
     },
     "execution_count": 125,
     "metadata": {},
     "output_type": "execute_result"
    }
   ],
   "source": [
    "science_data"
   ]
  },
  {
   "cell_type": "code",
   "execution_count": 114,
   "metadata": {},
   "outputs": [],
   "source": [
    "science_data.to_csv('redditscience.csv', index=False)\n",
    "\n",
    "# I repeated the above code for a total of 6 subreddits (Science, Climbing, Triathlon, Democrats, Conservative, Changemyview) \n",
    "#For each reddit, the correct label was appended and the filename was adjusted."
   ]
  },
  {
   "cell_type": "markdown",
   "metadata": {},
   "source": [
    "# Joining the .csv files together to form the dataset"
   ]
  },
  {
   "cell_type": "code",
   "execution_count": 115,
   "metadata": {},
   "outputs": [],
   "source": [
    "import os\n",
    "import glob\n",
    "\n",
    "os.chdir(\"/Users/martijndemollin/Downloads/Text Processing/WorksheetsNotebooks/csvfilesproject1/\")\n",
    "\n",
    "extension = 'csv'\n",
    "all_filenames = [i for i in glob.glob('*.{}'.format(extension))]\n",
    "\n",
    "combined_csv = pd.concat([pd.read_csv(f) for f in all_filenames ])\n",
    "\n",
    "combined_csv.to_csv( \"combined_csv.csv\", index=False, encoding='utf-8-sig')"
   ]
  },
  {
   "cell_type": "code",
   "execution_count": 116,
   "metadata": {},
   "outputs": [
    {
     "data": {
      "text/plain": [
       "pandas.core.frame.DataFrame"
      ]
     },
     "execution_count": 116,
     "metadata": {},
     "output_type": "execute_result"
    }
   ],
   "source": [
    "type(combined_csv)"
   ]
  },
  {
   "cell_type": "code",
   "execution_count": null,
   "metadata": {},
   "outputs": [],
   "source": []
  }
 ],
 "metadata": {
  "kernelspec": {
   "display_name": "Python 3",
   "language": "python",
   "name": "python3"
  },
  "language_info": {
   "codemirror_mode": {
    "name": "ipython",
    "version": 3
   },
   "file_extension": ".py",
   "mimetype": "text/x-python",
   "name": "python",
   "nbconvert_exporter": "python",
   "pygments_lexer": "ipython3",
   "version": "3.8.5"
  }
 },
 "nbformat": 4,
 "nbformat_minor": 4
}
